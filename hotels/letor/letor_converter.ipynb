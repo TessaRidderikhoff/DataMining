{
 "cells": [
  {
   "cell_type": "code",
   "execution_count": 1,
   "metadata": {},
   "outputs": [],
   "source": [
    "import pandas as pd\n",
    "import seaborn as sns\n",
    "import matplotlib.pyplot as plt\n",
    "import numpy as np\n",
    "from sklearn import tree\n",
    "import random\n",
    "import math"
   ]
  },
  {
   "cell_type": "code",
   "execution_count": 2,
   "metadata": {},
   "outputs": [],
   "source": [
    "hoteltest = pd.read_csv('hoteltest_testing_set.csv')\n",
    "hoteltrain = pd.read_csv('hoteltest_training_set.csv')"
   ]
  },
  {
   "cell_type": "code",
   "execution_count": 3,
   "metadata": {},
   "outputs": [
    {
     "data": {
      "text/plain": [
       "srch_id                          int64\n",
       "site_id                          int64\n",
       "visitor_location_country_id      int64\n",
       "prop_country_id                  int64\n",
       "prop_id                          int64\n",
       "prop_starrating                  int64\n",
       "prop_review_score              float64\n",
       "prop_brand_bool                  int64\n",
       "prop_location_score1           float64\n",
       "prop_location_score2           float64\n",
       "position                         int64\n",
       "promotion_flag                   int64\n",
       "srch_destination_id              int64\n",
       "srch_length_of_stay              int64\n",
       "srch_booking_window              int64\n",
       "srch_adults_count                int64\n",
       "srch_children_count              int64\n",
       "srch_room_count                  int64\n",
       "srch_saturday_night_bool         int64\n",
       "srch_query_affinity_score       object\n",
       "orig_destination_distance        int64\n",
       "random_bool                      int64\n",
       "click_bool                       int64\n",
       "booking_bool                     int64\n",
       "date_time_split                 object\n",
       "srch_month                       int64\n",
       "srch_year                        int64\n",
       "booking_month                    int64\n",
       "vis_star                         int64\n",
       "vis_usd                          int64\n",
       "prop_hist_price                  int64\n",
       "cat_price_usd                    int64\n",
       "gross_price_difference           int64\n",
       "all_comp_rates                 float64\n",
       "count_comp_rates               float64\n",
       "count_comp_inv                 float64\n",
       "comps_perc_diff                  int64\n",
       "dtype: object"
      ]
     },
     "execution_count": 3,
     "metadata": {},
     "output_type": "execute_result"
    }
   ],
   "source": [
    "hoteltest.dtypes\n",
    "hoteltrain.dtypes"
   ]
  },
  {
   "cell_type": "code",
   "execution_count": 4,
   "metadata": {},
   "outputs": [],
   "source": [
    "hoteltest.drop(hoteltest.select_dtypes(['object']), inplace=True, axis=1)\n",
    "hoteltrain.drop(hoteltrain.select_dtypes(['object']), inplace=True, axis=1)"
   ]
  },
  {
   "cell_type": "code",
   "execution_count": 5,
   "metadata": {},
   "outputs": [],
   "source": [
    "hoteltest_prop_id = hoteltest[['prop_id']]\n",
    "hoteltest_srch_id = hoteltest[['srch_id']]\n",
    "hoteltrain_prop_id = hoteltrain[['prop_id']]\n",
    "hoteltrain_srch_id = hoteltrain[['srch_id']]\n",
    "hoteltest = hoteltest.drop(columns=['prop_id', 'srch_id'])\n",
    "hoteltrain = hoteltrain.drop(columns=['prop_id', 'srch_id'])"
   ]
  },
  {
   "cell_type": "raw",
   "metadata": {},
   "source": [
    "hoteltest.drop(hoteltest.select_dtypes(['float64']), inplace=True, axis=1)\n",
    "hoteltrain.drop(hoteltrain.select_dtypes(['float64']), inplace=True, axis=1)"
   ]
  },
  {
   "cell_type": "code",
   "execution_count": 6,
   "metadata": {},
   "outputs": [],
   "source": [
    "properties = list(set().union(list(hoteltest.columns),list(hoteltrain.columns)))"
   ]
  },
  {
   "cell_type": "code",
   "execution_count": 7,
   "metadata": {},
   "outputs": [],
   "source": [
    "def get_letor_row(df, prop_id, srch_id, entry):\n",
    "    target = prop_id.iloc[entry][0]\n",
    "    qid = \"qid:\" + str(srch_id.iloc[entry][0])\n",
    "    features = []\n",
    "    for i, feature in enumerate(properties):\n",
    "        try: \n",
    "            value = df.loc[entry, feature]\n",
    "        except:\n",
    "            pass\n",
    "        else:\n",
    "            features.append(str(i + 1) + \":\" + str(value))\n",
    "    features = \" \".join(features)\n",
    "    return \" \".join([str(target),qid,features])"
   ]
  },
  {
   "cell_type": "code",
   "execution_count": 8,
   "metadata": {},
   "outputs": [],
   "source": [
    "file = open(\"../LambdaMart/test.txt\", \"w\")\n",
    "for entry in range(len(hoteltest)):\n",
    "    print(get_letor_row(hoteltest, hoteltest_prop_id, hoteltest_srch_id, entry), file=file)\n",
    "file.close()"
   ]
  },
  {
   "cell_type": "code",
   "execution_count": 9,
   "metadata": {},
   "outputs": [],
   "source": [
    "file = open(\"../LambdaMart/train.txt\", \"w\")\n",
    "for entry in range(len(hoteltrain)):\n",
    "    print(get_letor_row(hoteltrain, hoteltrain_prop_id, hoteltrain_srch_id, entry), file=file)\n",
    "file.close()"
   ]
  },
  {
   "cell_type": "code",
   "execution_count": 10,
   "metadata": {},
   "outputs": [
    {
     "data": {
      "text/plain": [
       "site_id                          int64\n",
       "visitor_location_country_id      int64\n",
       "prop_country_id                  int64\n",
       "prop_starrating                  int64\n",
       "prop_review_score              float64\n",
       "prop_brand_bool                  int64\n",
       "prop_location_score1           float64\n",
       "prop_location_score2           float64\n",
       "price_usd                      float64\n",
       "promotion_flag                   int64\n",
       "srch_destination_id              int64\n",
       "srch_length_of_stay              int64\n",
       "srch_booking_window              int64\n",
       "srch_adults_count                int64\n",
       "srch_children_count              int64\n",
       "srch_room_count                  int64\n",
       "srch_saturday_night_bool         int64\n",
       "orig_destination_distance        int64\n",
       "random_bool                      int64\n",
       "srch_month                       int64\n",
       "srch_year                        int64\n",
       "booking_month                    int64\n",
       "vis_star                         int64\n",
       "vis_usd                          int64\n",
       "prop_hist_price                  int64\n",
       "cat_price_usd                    int64\n",
       "all_comp_rates                 float64\n",
       "count_comp_rates               float64\n",
       "count_comp_inv                 float64\n",
       "comps_perc_diff                  int64\n",
       "dtype: object"
      ]
     },
     "execution_count": 10,
     "metadata": {},
     "output_type": "execute_result"
    }
   ],
   "source": [
    "hoteltest.dtypes"
   ]
  },
  {
   "cell_type": "code",
   "execution_count": null,
   "metadata": {},
   "outputs": [],
   "source": []
  }
 ],
 "metadata": {
  "kernelspec": {
   "display_name": "Python 3",
   "language": "python",
   "name": "python3"
  },
  "language_info": {
   "codemirror_mode": {
    "name": "ipython",
    "version": 3
   },
   "file_extension": ".py",
   "mimetype": "text/x-python",
   "name": "python",
   "nbconvert_exporter": "python",
   "pygments_lexer": "ipython3",
   "version": "3.7.1"
  }
 },
 "nbformat": 4,
 "nbformat_minor": 2
}
