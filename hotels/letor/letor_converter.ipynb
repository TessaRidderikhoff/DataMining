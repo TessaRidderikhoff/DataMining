{
 "cells": [
  {
   "cell_type": "code",
   "execution_count": 1,
   "metadata": {},
   "outputs": [],
   "source": [
    "import pandas as pd\n",
    "import os\n",
    "import numpy as np"
   ]
  },
  {
   "cell_type": "code",
   "execution_count": 2,
   "metadata": {},
   "outputs": [],
   "source": [
    "def getheaders():\n",
    "    with open('properties.txt', \"r\") as f:\n",
    "        properties = f.read().splitlines()\n",
    "    return properties"
   ]
  },
  {
   "cell_type": "code",
   "execution_count": 3,
   "metadata": {},
   "outputs": [],
   "source": [
    "def get_letor_row(df, prop_id, srch_id, entry):\n",
    "    target = prop_id.iloc[entry][0]\n",
    "    qid = \"qid:\" + str(srch_id.iloc[entry][0])\n",
    "    features = []\n",
    "    for i, feature in enumerate(properties):\n",
    "        try: \n",
    "            value = df.iloc[entry].loc[feature]\n",
    "        except:\n",
    "            pass\n",
    "        else:\n",
    "            features.append(str(i + 1) + \":\" + str(value))\n",
    "    features = \" \".join(features)\n",
    "    return \" \".join([str(target),qid,features])"
   ]
  },
  {
   "cell_type": "code",
   "execution_count": 4,
   "metadata": {},
   "outputs": [],
   "source": [
    "def bagging(df):   \n",
    "    groups = df.groupby('srch_id')\n",
    "    id_list = np.random.choice(df.srch_id.unique(), df.srch_id.unique().shape[0], replace=True)\n",
    "    all_indices = []\n",
    "    for group_id in id_list:\n",
    "        all_indices += list(groups.get_group(group_id).index.values) \n",
    "    return df.iloc[np.array(all_indices)]"
   ]
  },
  {
   "cell_type": "code",
   "execution_count": 5,
   "metadata": {},
   "outputs": [],
   "source": [
    "def open_set(hotel_set_file):\n",
    "    hotel_set_type = hotel_set_file.split('/')[-1].split('_')[1][:-3]\n",
    "    hotel_set = pd.read_csv(hotel_set_file)\n",
    "    hotel_set.drop(hotel_set.select_dtypes(['object']), inplace=True, axis=1)\n",
    "    if hotel_set_type == 'train':\n",
    "        hotel_set = bagging(hotel_set).sort_values('srch_id')\n",
    "    hotel_set_prop_id = hotel_set[['prop_id']]\n",
    "    hotel_set_srch_id = hotel_set[['srch_id']]\n",
    "    file = open(\"../LambdaMart/%s.txt\" % hotel_set_type, \"w\")\n",
    "    for entry in range(len(hotel_set)):\n",
    "        get_letor_row(hotel_set, hotel_set_prop_id, hotel_set_srch_id, entry)\n",
    "        #print(get_letor_row(hotel_set, hotel_set_prop_id, hotel_set_srch_id, entry), file=file)\n",
    "    file.close()"
   ]
  },
  {
   "cell_type": "code",
   "execution_count": 6,
   "metadata": {},
   "outputs": [],
   "source": [
    "test = 'complete_files/hoteltest_testing_set.csv'\n",
    "train = 'test_files/hoteltest_training_set.csv'\n",
    "properties = getheaders()"
   ]
  },
  {
   "cell_type": "code",
   "execution_count": 7,
   "metadata": {},
   "outputs": [],
   "source": [
    "open_set(train)"
   ]
  },
  {
   "cell_type": "code",
   "execution_count": null,
   "metadata": {},
   "outputs": [],
   "source": [
    "open_set(test)"
   ]
  },
  {
   "cell_type": "code",
   "execution_count": null,
   "metadata": {},
   "outputs": [],
   "source": []
  }
 ],
 "metadata": {
  "kernelspec": {
   "display_name": "Python 3",
   "language": "python",
   "name": "python3"
  },
  "language_info": {
   "codemirror_mode": {
    "name": "ipython",
    "version": 3
   },
   "file_extension": ".py",
   "mimetype": "text/x-python",
   "name": "python",
   "nbconvert_exporter": "python",
   "pygments_lexer": "ipython3",
   "version": "3.7.2"
  }
 },
 "nbformat": 4,
 "nbformat_minor": 2
}
