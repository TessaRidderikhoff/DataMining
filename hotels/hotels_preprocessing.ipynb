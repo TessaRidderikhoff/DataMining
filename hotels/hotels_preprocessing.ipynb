{
 "cells": [
  {
   "cell_type": "code",
   "execution_count": 1,
   "metadata": {},
   "outputs": [],
   "source": [
    "import pandas as pd\n",
    "import seaborn as sns\n",
    "import matplotlib.pyplot as plt\n",
    "import numpy as np\n",
    "from sklearn import tree\n",
    "import random\n",
    "import math\n",
    "from datetime import timedelta\n",
    "from scipy import stats"
   ]
  },
  {
   "cell_type": "code",
   "execution_count": 2,
   "metadata": {},
   "outputs": [],
   "source": [
    "hotelstotal = pd.read_csv('../../training_set_VU_DM.csv')"
   ]
  },
  {
   "cell_type": "code",
   "execution_count": 3,
   "metadata": {},
   "outputs": [
    {
     "data": {
      "text/plain": [
       "6.21"
      ]
     },
     "execution_count": 3,
     "metadata": {},
     "output_type": "execute_result"
    }
   ],
   "source": [
    "hotels = hotelstotal[1:20000]\n",
    "\n",
    "hotelstotal.prop_log_historical_price.max()\n",
    "\n",
    "# sns.countplot(x = \"prop_log_historical_price\", data = hotels)"
   ]
  },
  {
   "cell_type": "code",
   "execution_count": 4,
   "metadata": {
    "scrolled": false
   },
   "outputs": [
    {
     "data": {
      "text/plain": [
       "count    3.867999e+06\n",
       "mean     1.303852e-01\n",
       "std      1.594634e-01\n",
       "min      0.000000e+00\n",
       "25%      1.900000e-02\n",
       "50%      6.900000e-02\n",
       "75%      1.805000e-01\n",
       "max      1.000000e+00\n",
       "Name: prop_location_score2, dtype: float64"
      ]
     },
     "execution_count": 4,
     "metadata": {},
     "output_type": "execute_result"
    }
   ],
   "source": [
    "hotelstotal.prop_location_score2.describe()"
   ]
  },
  {
   "cell_type": "code",
   "execution_count": 27,
   "metadata": {
    "scrolled": true
   },
   "outputs": [],
   "source": [
    "def categorize_date(df):\n",
    "    \n",
    "    df['date_time_split'] = pd.to_datetime(df['date_time'])\n",
    "    df['srch_month'] = df['date_time_split'].dt.month\n",
    "    df['srch_year'] = df['date_time_split'].dt.year\n",
    "    df['srch_hour'] = df['date_time_split'].dt.hour\n",
    "\n",
    "#     bins = [0, 6, 12, 18, 23]\n",
    "#     labels = [0, 1, 2, 3]\n",
    "#     df['srch_daytime'] = pd.cut(df['srch_hour'], bins = bins, labels = labels)\n",
    "    \n",
    "    df['booking_month'] = (df['date_time_split'] + df['srch_booking_window'].apply(pd.offsets.Day)).dt.month\n",
    "\n",
    "    df = df.drop(['date_time', 'srch_hour'], axis=1)\n",
    "    \n",
    "    return df\n",
    "\n",
    "def categorize_prop_review_score(df):\n",
    "    \n",
    "    df['prop_review_score'] = df['prop_review_score'].fillna(0)\n",
    "    \n",
    "    return df\n",
    "    \n",
    "def categorize_hist_starrating(df):\n",
    "    \n",
    "    df['visitor_hist_starrating'] = df['visitor_hist_starrating'].fillna(-0.5)\n",
    "    \n",
    "    bins = [-1, 0, 0.5, 1, 1.5, 2, 2.5, 3, 3.5, 4, 4.5, 5]\n",
    "    labels = [0, 1, 2, 3, 4, 5, 6, 7, 8, 9, 10]\n",
    "    df['vis_star'] = pd.cut(df.visitor_hist_starrating, bins, labels = labels)\n",
    "    \n",
    "    return df.drop(['visitor_hist_starrating'], axis=1)\n",
    "#     return df\n",
    "    \n",
    "def categorize_hist_usd(df):\n",
    "    df['vis_usd'] = pd.qcut(df['visitor_hist_adr_usd'], 4, labels = [1, 2, 3, 4])\n",
    "    \n",
    "    df['vis_usd'] = df['vis_usd'].cat.add_categories([0])\n",
    "    df['vis_usd'] = df['vis_usd'].fillna(0)\n",
    "    \n",
    "    return df.drop(['visitor_hist_adr_usd'], axis=1)\n",
    "#     return df\n",
    "    \n",
    "def categorize_prop_loc_score(df):\n",
    "    \n",
    "    df['prop_location_score1'] = df['prop_location_score1'].round()\n",
    "    df['prop_location_score2'] = df['prop_location_score2'].fillna(df['prop_location_score2'].mean())\n",
    "    df['prop_location_score2'] = df['prop_location_score2'].round(1)\n",
    "    \n",
    "    return df\n",
    "    \n",
    "def categorize_historical_price(df):\n",
    "    \n",
    "    df['prop_hist_price'] = pd.qcut(df['prop_log_historical_price'], 6, duplicates = 'drop', labels = [0, 1, 2, 3, 4, 5])\n",
    "    \n",
    "#     return df.drop(['prop_log_historical_price'], axis=1)\n",
    "    return df\n",
    "    \n",
    "def categorize_price_usd(df):\n",
    "    \n",
    "    q = df['price_usd'].quantile(0.99)\n",
    "    df['price_usd'] = df[df['price_usd'] < q]\n",
    "    hotel_id = df.groupby(['prop_id'])\n",
    "    df['price_usd'] = hotel_id.price_usd.apply(lambda x: x.fillna(x.mean()))\n",
    "    \n",
    "    df['cat_price_usd'] = pd.qcut(df['price_usd'], 6, labels = [0, 1, 2, 3, 4, 5])\n",
    "    df['cat_price_usd'] = df['cat_price_usd'].fillna(5)\n",
    "    \n",
    "    return df\n",
    "\n",
    "def categorize_gross_bookings_usd(df):\n",
    "    \n",
    "    df['gross_price_difference'] = df['gross_bookings_usd'] - df['price_usd']\n",
    "    df['gross_price_difference'] = pd.qcut(df['gross_price_difference'], 4, labels = [1, 2, 3, 4])\n",
    "    df['gross_price_difference'] = df['gross_price_difference'].cat.add_categories([0])\n",
    "    df['gross_price_difference'] = df['gross_price_difference'].fillna(0)\n",
    "    \n",
    "    return df.drop(['gross_bookings_usd', 'price_usd'], axis=1)\n",
    "    \n",
    "def categorize_nights(df):\n",
    "    \n",
    "    df['srch_length_of_stay'] = np.where(df['srch_length_of_stay'] > 4, 5, df['srch_length_of_stay'])\n",
    "    return df\n",
    "    \n",
    "def categorize_booking_window(df):\n",
    "    \n",
    "    df['srch_booking_window'] = df['srch_booking_window']/7\n",
    "    df['srch_booking_window'] = df['srch_booking_window'].round(0).astype(int)\n",
    "    df['srch_booking_window'] = np.where(df['srch_booking_window'] > 12, 12, df['srch_booking_window'])\n",
    "    \n",
    "    return df\n",
    "    \n",
    "def categorize_srch_count(df):\n",
    "    \n",
    "    df['srch_adults_count'] = np.where(df['srch_adults_count'] > 3, 3, df['srch_adults_count'])\n",
    "    df['srch_children_count'] = np.where(df['srch_children_count'] > 3, 3, df['srch_children_count'])\n",
    "    df['srch_room_count'] = np.where(df['srch_room_count'] > 2, 2, df['srch_room_count'])\n",
    "    return df\n",
    "    \n",
    "def categorize_log_probs(df):\n",
    "    \n",
    "    df['srch_query_affinity_score'] = pd.qcut(df['srch_query_affinity_score'], 4, duplicates = 'drop')\n",
    "    df['srch_query_affinity_score'] = df['srch_query_affinity_score'].cat.add_categories([0])\n",
    "    df['srch_query_affinity_score'] = df['srch_query_affinity_score'].fillna(0)\n",
    "    return df\n",
    "    \n",
    "def categorize_distance_hotel(df):\n",
    "    \n",
    "    distgroup = df.groupby([\"visitor_location_country_id\", \"prop_country_id\"])\n",
    "    \n",
    "    df['orig_destination_distance'] = distgroup.orig_destination_distance.apply(lambda x: x.fillna(x.mean()))\n",
    "    \n",
    "#     df['orig_destination_distance'] = df['orig_destination_distance'].fillna()\n",
    "    \n",
    "    df['orig_destination_distance'] = pd.qcut(df['orig_destination_distance'], 6, labels = [1, 2, 3, 4, 5, 6])\n",
    "    df['orig_destination_distance'] = df['orig_destination_distance'].cat.add_categories([0])\n",
    "    df['orig_destination_distance'] = df['orig_destination_distance'].fillna(0)\n",
    "    return df\n",
    "    \n",
    "def categorize_comp_rates(df):\n",
    "    \n",
    "    \n",
    "    df['all_comp_rates'] = df[['comp1_rate', 'comp2_rate', 'comp3_rate', 'comp4_rate', 'comp5_rate', 'comp6_rate', 'comp7_rate','comp8_rate']].min(axis=1)\n",
    "    df['all_comp_rates'] = df['all_comp_rates'].fillna(2)\n",
    "    \n",
    "    df.update(df[['comp1_rate', 'comp2_rate', 'comp3_rate','comp4_rate','comp5_rate','comp6_rate','comp7_rate','comp8_rate']].fillna(0))\n",
    "    \n",
    "    df['count_comp_rates'] = df['comp1_rate'] + df['comp2_rate'] + df['comp3_rate'] + df['comp4_rate'] + df['comp5_rate'] + df['comp6_rate'] + df['comp7_rate'] + df['comp8_rate']\n",
    "    df = df.drop(['comp1_rate', 'comp2_rate', 'comp3_rate','comp4_rate','comp5_rate','comp6_rate','comp7_rate','comp8_rate'], axis=1)\n",
    "    return df\n",
    "    \n",
    "def categorize_comp_inv(df):\n",
    "    \n",
    "    df.update(df[['comp1_inv', 'comp2_inv', 'comp3_inv','comp4_inv','comp5_inv','comp6_inv','comp7_inv','comp8_inv']].fillna(0))\n",
    "    \n",
    "    df['count_comp_inv'] = df['comp1_inv'] + df['comp2_inv'] + df['comp3_inv'] + df['comp4_inv'] + df['comp5_inv'] + df['comp6_inv'] + df['comp7_inv'] + df['comp8_inv']\n",
    "    df = df.drop(['comp1_inv', 'comp2_inv', 'comp3_inv','comp4_inv','comp5_inv','comp6_inv','comp7_inv','comp8_inv'], axis=1)\n",
    "    return df\n",
    "    \n",
    "def categorize_comp_perc(df):\n",
    "    \n",
    "    df['comps_perc_diff'] = df[['comp1_rate_percent_diff', 'comp2_rate_percent_diff','comp3_rate_percent_diff','comp4_rate_percent_diff','comp5_rate_percent_diff','comp6_rate_percent_diff','comp7_rate_percent_diff','comp8_rate_percent_diff']].mean(axis=1)\n",
    "    df['comps_perc_diff'] = pd.qcut(df['comps_perc_diff'], 4, labels = [1, 2, 3, 4])\n",
    "    df['comps_perc_diff'] = df['comps_perc_diff'].cat.add_categories([0])\n",
    "    df['comps_perc_diff'] = df['comps_perc_diff'].fillna(0)\n",
    "    df = df.drop(['comp1_rate_percent_diff', 'comp2_rate_percent_diff','comp3_rate_percent_diff','comp4_rate_percent_diff','comp5_rate_percent_diff','comp6_rate_percent_diff','comp7_rate_percent_diff','comp8_rate_percent_diff'], axis=1)\n",
    "    return df"
   ]
  },
  {
   "cell_type": "code",
   "execution_count": 28,
   "metadata": {},
   "outputs": [
    {
     "name": "stderr",
     "output_type": "stream",
     "text": [
      "C:\\Users\\tessa\\Miniconda3\\lib\\site-packages\\pandas\\core\\arrays\\datetimelike.py:1129: PerformanceWarning: Adding/subtracting array of DateOffsets to DatetimeArray not vectorized\n",
      "  .format(cls=type(self).__name__), PerformanceWarning)\n"
     ]
    }
   ],
   "source": [
    "pd.options.mode.chained_assignment = None  # default='warn'\n",
    "\n",
    "hotels = hotelstotal[0:20000]\n",
    "\n",
    "hotels = categorize_prop_review_score(hotels)\n",
    "hotels = categorize_date(hotels)\n",
    "hotels = categorize_hist_starrating(hotels)\n",
    "hotels = categorize_hist_usd(hotels)\n",
    "hotels = categorize_prop_loc_score(hotels)\n",
    "hotels = categorize_historical_price(hotels)\n",
    "hotels = categorize_price_usd(hotels)\n",
    "hotels = categorize_gross_bookings_usd(hotels)\n",
    "hotels = categorize_nights(hotels)\n",
    "hotels = categorize_booking_window(hotels)\n",
    "hotels = categorize_srch_count(hotels)\n",
    "hotels = categorize_log_probs(hotels)\n",
    "hotels = categorize_distance_hotel(hotels)\n",
    "hotels = categorize_comp_rates(hotels)\n",
    "hotels = categorize_comp_inv(hotels)\n",
    "hotels = categorize_comp_perc(hotels)"
   ]
  },
  {
   "cell_type": "code",
   "execution_count": 22,
   "metadata": {
    "scrolled": false
   },
   "outputs": [
    {
     "data": {
      "text/plain": [
       "srch_id                        0\n",
       "site_id                        0\n",
       "visitor_location_country_id    0\n",
       "prop_country_id                0\n",
       "prop_id                        0\n",
       "prop_starrating                0\n",
       "prop_review_score              0\n",
       "prop_brand_bool                0\n",
       "prop_location_score1           0\n",
       "prop_location_score2           0\n",
       "prop_log_historical_price      0\n",
       "position                       0\n",
       "promotion_flag                 0\n",
       "srch_destination_id            0\n",
       "srch_length_of_stay            0\n",
       "srch_booking_window            0\n",
       "srch_adults_count              0\n",
       "srch_children_count            0\n",
       "srch_room_count                0\n",
       "srch_saturday_night_bool       0\n",
       "srch_query_affinity_score      0\n",
       "orig_destination_distance      0\n",
       "random_bool                    0\n",
       "click_bool                     0\n",
       "booking_bool                   0\n",
       "date_time_split                0\n",
       "srch_month                     0\n",
       "srch_year                      0\n",
       "booking_month                  0\n",
       "vis_star                       0\n",
       "vis_usd                        0\n",
       "prop_hist_price                0\n",
       "cat_price_usd                  0\n",
       "gross_price_difference         0\n",
       "all_comp_rates                 0\n",
       "count_comp_rates               0\n",
       "count_comp_inv                 0\n",
       "comps_perc_diff                0\n",
       "dtype: int64"
      ]
     },
     "execution_count": 22,
     "metadata": {},
     "output_type": "execute_result"
    }
   ],
   "source": [
    "hotels.isna().sum()"
   ]
  },
  {
   "cell_type": "code",
   "execution_count": 29,
   "metadata": {},
   "outputs": [],
   "source": [
    "hotels[\"book_probability\"] = 1 - (hotels[\"cat_price_usd\"].astype(int) * (1/5))"
   ]
  },
  {
   "cell_type": "code",
   "execution_count": 30,
   "metadata": {},
   "outputs": [
    {
     "data": {
      "text/plain": [
       "<matplotlib.axes._subplots.AxesSubplot at 0x1931e75ba90>"
      ]
     },
     "execution_count": 30,
     "metadata": {},
     "output_type": "execute_result"
    },
    {
     "data": {
      "image/png": "[encoded data removed]",
      "text/plain": [
       "<Figure size 432x288 with 1 Axes>"
      ]
     },
     "metadata": {
      "needs_background": "light"
     },
     "output_type": "display_data"
    }
   ],
   "source": [
    "sns.lineplot(x = \"cat_price_usd\", y = \"book_probability\", data = hotels)"
   ]
  },
  {
   "cell_type": "code",
   "execution_count": null,
   "metadata": {},
   "outputs": [],
   "source": []
  }
 ],
 "metadata": {
  "kernelspec": {
   "display_name": "Python 3",
   "language": "python",
   "name": "python3"
  },
  "language_info": {
   "codemirror_mode": {
    "name": "ipython",
    "version": 3
   },
   "file_extension": ".py",
   "mimetype": "text/x-python",
   "name": "python",
   "nbconvert_exporter": "python",
   "pygments_lexer": "ipython3",
   "version": "3.7.1"
  }
 },
 "nbformat": 4,
 "nbformat_minor": 2
}
